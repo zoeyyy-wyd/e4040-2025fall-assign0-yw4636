{
  "cells": [
    {
      "cell_type": "markdown",
      "metadata": {
        "id": "BckUOSXHptwv"
      },
      "source": [
        "## ECBM E4040 Neural Networks and Deep Learning\n",
        "### Columbia University, Fall 2025"
      ]
    },
    {
      "cell_type": "markdown",
      "metadata": {
        "id": "OTCbBGu2ptwz"
      },
      "source": [
        "# ECBM E4040 - Assignment 0"
      ]
    },
    {
      "cell_type": "markdown",
      "metadata": {
        "id": "erLmkACPptw4"
      },
      "source": [
        "## Welcome to ECBM E4040 Neural Networks & Deep Learning\n",
        "\n",
        "This course teaches theory, concepts, modeling and programming techniques. The assignments are focused on practical coding for creating, testing and running deep learning models.\n",
        "\n",
        "The **Assignment 0** introduces our programming environment and tools, and basic TensorFlow operations.\n",
        "\n",
        "The assignment consists of the following components:\n",
        "* Programming environment setup - Google Compute Engine/local machine, Python, TensorFlow.\n",
        "* Using Jupyter Notebook\n",
        "* TensorFlow basics\n",
        "* A demo of a program written in TensorFlow\n",
        "\n",
        "<p style='color:red'>Cells marked with \"<strong>TODO</strong>\" need to be completed by students, as a part of the assignment.</p>\n",
        "\n",
        "Please consult TAs or post your problems/issues on Ed Discussion."
      ]
    },
    {
      "cell_type": "markdown",
      "metadata": {
        "id": "H9x7wOPtptw6"
      },
      "source": [
        "## Part 1 - Setting Up the Programming Environment\n",
        "\n",
        "For this course, we use [**Python**](https://www.python.org) as the programming language, and [**TensorFlow**](https://www.tensorflow.org) as the deep learning framework.\n",
        "\n",
        "Our course website (https://ecbme4040.github.io/) provides a number of tutorials:\n",
        "* Local Environment Setup\n",
        "* Google Compute Engine (GCE) Setup on the Google Cloud Platform (GCP)\n",
        "* Python Tutorial\n",
        "* TensorFlow Tutorial\n",
        "* Linux Tutorial\n",
        "* Git Commands\n",
        "* Google Colab"
      ]
    },
    {
      "cell_type": "markdown",
      "metadata": {
        "id": "LrIlzXFIsO3c"
      },
      "source": [
        "<p style='color:red'><strong>TODO:</strong></p>\n",
        "\n",
        "This list shows an overview of what students need to do to complete the assignment. Later cells in this Jupyter notebook describe the details of the operations that need to be executed as TODO items.\n",
        "\n",
        "* Create an account on Github, and familiarize yourself both with git operations and with Github.\n",
        "\n",
        "    * Github is a __version control__ system, which will be helpful in your learning journey.\n",
        "\n",
        "    * You can get familiar with git & github by following [guide](https://github.com/git-guides).\n",
        "\n",
        "* Execute `Assignment0.ipynb`.\n",
        "\n",
        "  Three platforms are mainly recommended for __executing code__ in this course, which is required for the Assignments and the Final Project.\n",
        "\n",
        "    1. __Google Cloud__: Primary platform for all assignments. Requires credits\n",
        "    \n",
        "        * You can initially use the $300 that every new account gets from Google Cloud.\n",
        "\n",
        "        * After the add/drop period you will be given codes/coupons from the instructors.  \n",
        "\n",
        "    2. __Google Colab__: Easy setup, free limited compute. Use before codes/coupons are distributed.\n",
        "\n",
        "    3. __Personal Computer__: Optional. Useful for quick & free debugging locally; final runs should be on Google Cloud.\n",
        "    \n",
        "  Please use the three platforms flexibly to run code, but __submit the final version from Google Cloud__, you will be required to submit the screenshots of your __Google Cloud VM Instance__. Requirements on screenshots will be given in the `README.md` of `Assignment0.ipynb` after add/drop.\n",
        "        \n",
        "  For example, for `Assignment0.ipynb`:\n",
        "\n",
        "    * During add/drop: run it in **Colab** (fetch from GitHub or Courseworks, upload to Colab, execute, and save your solutions).  \n",
        "\n",
        "    * After add/drop: set up a **Google Cloud VM** ([GCE tutorial](https://ecbme4040.github.io/2024_fall/EnvSetup/gcp.html)), re-run the notebook, save it, and take required screenshots (VM dashboard + notebook in VM). Submit the modified notebook (with completed TODOs) via GitHub, along with screenshots as proof of cloud execution.\n",
        "\n",
        "* **(Optional)** Knowledge of Python, Linux and Git operations is needed for this course. Doing the tutorials is optional, depending on your prior knowledge of these topics.\n",
        "\n",
        "* **(Optional)** Tutorials on TensorFlow are extensive. As you progress with this course, they are an excellent complement to our class."
      ]
    },
    {
      "cell_type": "markdown",
      "metadata": {
        "id": "h0-p84qHptw8"
      },
      "source": [
        "## Part 2 - How to Use Jupyter Notebook - Basics\n",
        "\n",
        "Jupyter Notebook is an interactive Python programming interface. Jupyter Notebook files have a postfix `.ipynb`, and each file is made up of several blocks of code which are called **cells**. Each cell can be configured as a **coding cell** or a **markdown text cell**. Google colab is the easiest installation-free platform to run and familiarize oneself with Jupyter Notebook operations.\n",
        "\n",
        "Basic instructions:\n",
        "* The menu bars are located on the top of a notebook.\n",
        "* To execute a cell, select it, and press `ctrl + Enter`. (You may also try `shift + Enter` and `alt + Enter` to see the difference).\n",
        "* To switch between code and Markdown, select a cell, and select the mode you want in the dropdown menu in the menu bar.\n",
        "\n",
        "A full guide to Jupyter Notebook can be accessed in [Official Document](https://jupyter-notebook.readthedocs.io/en/latest/)."
      ]
    },
    {
      "cell_type": "code",
      "execution_count": null,
      "metadata": {
        "id": "ih8-yaIcptw-",
        "colab": {
          "base_uri": "https://localhost:8080/"
        },
        "outputId": "58e2f20b-bccb-42e3-d7b8-9fd6f56e9ddc"
      },
      "outputs": [
        {
          "output_type": "stream",
          "name": "stdout",
          "text": [
            "Hello Jupyter!\n"
          ]
        }
      ],
      "source": [
        "# To test that you understand how to use a coding cell, make this cell output a string 'Hello Jupyter!'.\n",
        "# We've written the code, all you need to do is to execute it.\n",
        "print('Hello Jupyter!')"
      ]
    },
    {
      "cell_type": "markdown",
      "metadata": {
        "id": "HHIrOHgHptxN"
      },
      "source": [
        "## Part 3 - TensorFlow Basics\n",
        "\n",
        "TensorFlow is one of the most popular deep learning frameworks. Originally created by Google, it has received a lot of community support. TensorFlow versions before 2.0 (until summer 2019) contained a number of detailed functions for construction of deep learning (neural network) models, and relied on a two-step process for model creation and execution.\n",
        "\n",
        "TensorFlow versions 2.0 and beyond focus on simplicity and ease of use, with updates like eager execution, intuitive Keras-based higher-level APIs, and flexible model building on any platform.\n",
        "\n",
        "In this part, we look at some basic TensorFlow concepts and operations."
      ]
    },
    {
      "cell_type": "code",
      "execution_count": null,
      "metadata": {
        "id": "ZA_ETQgWSw0N",
        "colab": {
          "base_uri": "https://localhost:8080/"
        },
        "outputId": "e5532837-8e75-4971-b04a-1d06c759bb88"
      },
      "outputs": [
        {
          "output_type": "stream",
          "name": "stdout",
          "text": [
            "Requirement already satisfied: matplotlib in /usr/local/lib/python3.12/dist-packages (3.10.6)\n",
            "Requirement already satisfied: contourpy>=1.0.1 in /usr/local/lib/python3.12/dist-packages (from matplotlib) (1.3.3)\n",
            "Requirement already satisfied: cycler>=0.10 in /usr/local/lib/python3.12/dist-packages (from matplotlib) (0.12.1)\n",
            "Requirement already satisfied: fonttools>=4.22.0 in /usr/local/lib/python3.12/dist-packages (from matplotlib) (4.59.2)\n",
            "Requirement already satisfied: kiwisolver>=1.3.1 in /usr/local/lib/python3.12/dist-packages (from matplotlib) (1.4.9)\n",
            "Requirement already satisfied: numpy>=1.23 in /usr/local/lib/python3.12/dist-packages (from matplotlib) (2.0.2)\n",
            "Requirement already satisfied: packaging>=20.0 in /usr/local/lib/python3.12/dist-packages (from matplotlib) (25.0)\n",
            "Requirement already satisfied: pillow>=8 in /usr/local/lib/python3.12/dist-packages (from matplotlib) (11.3.0)\n",
            "Requirement already satisfied: pyparsing>=2.3.1 in /usr/local/lib/python3.12/dist-packages (from matplotlib) (3.2.3)\n",
            "Requirement already satisfied: python-dateutil>=2.7 in /usr/local/lib/python3.12/dist-packages (from matplotlib) (2.9.0.post0)\n",
            "Requirement already satisfied: six>=1.5 in /usr/local/lib/python3.12/dist-packages (from python-dateutil>=2.7->matplotlib) (1.17.0)\n",
            "matplotlib installed\n"
          ]
        }
      ],
      "source": [
        "# This cell installs matplotlib tool, directly from Jupyter Notebook.\n",
        "# Run this cell just once after removing the '#' sign before the command.\n",
        "\n",
        "!pip install --upgrade matplotlib\n",
        "print(\"matplotlib installed\")"
      ]
    },
    {
      "cell_type": "code",
      "execution_count": 3,
      "metadata": {
        "id": "Zfw8_AOlptxP",
        "colab": {
          "base_uri": "https://localhost:8080/"
        },
        "outputId": "172bfb58-3e6b-4c8f-c3c3-d9bc41109d9a"
      },
      "outputs": [
        {
          "output_type": "stream",
          "name": "stdout",
          "text": [
            "TensorFlow Version = 2.19.0\n"
          ]
        }
      ],
      "source": [
        "# Activating TensorFlow in Jupyter Notebook\n",
        "\n",
        "# Disable some warnings, to simplify the output when running the cells\n",
        "import warnings\n",
        "warnings.simplefilter(action='ignore', category=FutureWarning)\n",
        "\n",
        "# Import the TensorFlow module\n",
        "import tensorflow as tf\n",
        "\n",
        "print('TensorFlow Version =', tf.__version__)\n",
        "\n",
        "# The following modules will be used in later parts of the assignment.\n",
        "# Make sure that you install the latest version of numpy and matplotlib (inside your conda workspace)\n",
        "# Alternatively, inside your virtual environment, use `conda install numpy`\n",
        "# and \"conda install matplotlib\" and restart the jupyter notebook.\n",
        "import numpy as np\n",
        "from matplotlib import pyplot as plt"
      ]
    },
    {
      "cell_type": "markdown",
      "metadata": {
        "id": "xqIRW2wcptxY"
      },
      "source": [
        "#### 1. Use of String Constant with TensorFlow"
      ]
    },
    {
      "cell_type": "markdown",
      "metadata": {
        "id": "FxB4Oqtvptxa"
      },
      "source": [
        "In TensorFlow 2.0 the concept of sessions (as in versions before 2.0) has been deprecated. Now, variables are accessible instantly (as compared to after `sess.run`), making this flow \"more pythonic\" in style."
      ]
    },
    {
      "cell_type": "code",
      "execution_count": null,
      "metadata": {
        "id": "sGS6SiZJptxc",
        "colab": {
          "base_uri": "https://localhost:8080/"
        },
        "outputId": "70c5b8ea-8534-4b80-e4de-1c27665f2a07"
      },
      "outputs": [
        {
          "output_type": "stream",
          "name": "stdout",
          "text": [
            "Hello TensorFlow!\n"
          ]
        }
      ],
      "source": [
        "# Example\n",
        "# Define a string constant\n",
        "string = tf.constant('Hello TensorFlow!')\n",
        "tf.print(string)"
      ]
    },
    {
      "cell_type": "code",
      "execution_count": null,
      "metadata": {
        "colab": {
          "base_uri": "https://localhost:8080/"
        },
        "id": "ZY3_Il6TsO3d",
        "outputId": "bafdc568-19ee-43cb-aa94-1f8f156d29dc"
      },
      "outputs": [
        {
          "output_type": "stream",
          "name": "stdout",
          "text": [
            "Yidan Wang: yw4636\n"
          ]
        }
      ],
      "source": [
        "my_string = tf.constant('Yidan Wang: yw4636')\n",
        "tf.print(my_string)"
      ]
    },
    {
      "cell_type": "markdown",
      "metadata": {
        "id": "IE5Yd4Oeptxl"
      },
      "source": [
        "<p style='color:red'><strong>TODO:</strong></p>\n",
        "\n",
        "Follow the example above and use TensorFlow to output the string \"YOUR_NAME: YOUR_UNI\"."
      ]
    },
    {
      "cell_type": "markdown",
      "metadata": {
        "id": "YlQaSaBwSw0e"
      },
      "source": [
        "<p style='color:red'><strong>SOLUTION (enter a new cell below):</strong></p>"
      ]
    },
    {
      "cell_type": "markdown",
      "metadata": {
        "id": "LSBsfBIQptx3"
      },
      "source": [
        "#### 2. Basic Maths in TensorFlow"
      ]
    },
    {
      "cell_type": "code",
      "execution_count": null,
      "metadata": {
        "id": "Gy6l7PvLptx4",
        "colab": {
          "base_uri": "https://localhost:8080/"
        },
        "outputId": "6eb72ef4-c48d-4762-a5c5-04d4074d0dc9"
      },
      "outputs": [
        {
          "output_type": "stream",
          "name": "stdout",
          "text": [
            "a = 10\n",
            "b = 20\n",
            "a + b = 30\n",
            "a - b = -10\n"
          ]
        }
      ],
      "source": [
        "# Example\n",
        "\n",
        "# Define 2 constant nodes. It is a good habit to name your nodes.\n",
        "# The name of the nodes will appear in the TensorBoard graph.\n",
        "a = tf.constant(10, dtype=tf.float32, name='a')\n",
        "b = tf.constant(20, dtype=tf.float32, name='b')\n",
        "\n",
        "# Addition and subtraction\n",
        "add = tf.add(a, b, name='add') # same as a+b\n",
        "sub = tf.subtract(a, b, name='sub') # same as a-b\n",
        "\n",
        "# There is no need for the session to run these operations (as in TensorFlow 1.*)\n",
        "tf.print(\"a =\", a)\n",
        "tf.print(\"b =\", b)\n",
        "tf.print(\"a + b =\", add)\n",
        "tf.print(\"a - b =\", sub)"
      ]
    },
    {
      "cell_type": "code",
      "execution_count": null,
      "metadata": {
        "colab": {
          "base_uri": "https://localhost:8080/"
        },
        "id": "wGREzvWZsO3d",
        "outputId": "b41eaf5e-4a3f-4222-e725-2229f82d1a9a"
      },
      "outputs": [
        {
          "output_type": "stream",
          "name": "stdout",
          "text": [
            "a * b = 200\n",
            "a / b = 0.5\n",
            "a ^ b = 1e+20\n",
            "log(a) = 2.30258512\n"
          ]
        }
      ],
      "source": [
        "multi = tf.multiply(a ,b , name = None)\n",
        "divi = tf.divide(a, b, name = None)\n",
        "power = tf.pow(a, b, name = None)\n",
        "logar = tf.math.log(a)\n",
        "\n",
        "tf.print(\"a * b =\", multi)\n",
        "tf.print(\"a / b =\", divi)\n",
        "tf.print(\"a ^ b =\", power)\n",
        "tf.print(\"log(a) =\", logar)"
      ]
    },
    {
      "cell_type": "markdown",
      "metadata": {
        "id": "-BKpajYGptx-"
      },
      "source": [
        "<p style='color:red'><strong>TODO:</strong></p>\n",
        "\n",
        "Visit https://www.tensorflow.org/versions/r2.4/api_docs/python/tf/math, find proper operations to calculate and print:\n",
        "- `a*b` (multiplication)\n",
        "- `a/b` (division)\n",
        "- `a^b` (power)\n",
        "- `log(a)` (natural logarithm)\n",
        "\n",
        "***Note:*** `a` and `b` are defined in the previous cell, you should use them directly."
      ]
    },
    {
      "cell_type": "markdown",
      "metadata": {
        "id": "07VHHDK8Sw0n"
      },
      "source": [
        "<p style='color:red'><strong>SOLUTION (enter a new cell below):</strong></p>"
      ]
    },
    {
      "cell_type": "markdown",
      "metadata": {
        "id": "AUY_auy5ptyF"
      },
      "source": [
        "#### 3. Constant Tensor, Sequences and Random Numbers in TensorFlow"
      ]
    },
    {
      "cell_type": "code",
      "execution_count": null,
      "metadata": {
        "id": "eJH7b1ZLptyG",
        "colab": {
          "base_uri": "https://localhost:8080/"
        },
        "outputId": "624a1a12-48aa-40eb-e8f5-02ee70f792a4"
      },
      "outputs": [
        {
          "output_type": "stream",
          "name": "stdout",
          "text": [
            "Zero array:\n",
            " [[0 0 0]\n",
            " [0 0 0]] \n",
            "\n",
            "One array:\n",
            " [[1 1 1]\n",
            " [1 1 1]] \n",
            "\n",
            "Zero-like:\n",
            " [[0 0 0]\n",
            " [0 0 0]] \n",
            "\n",
            "One-like:\n",
            " [[1 1 1]\n",
            " [1 1 1]] \n",
            "\n",
            "Linear sequence:\n",
            " [0 1.25 2.5 3.75 5] \n",
            "\n",
            "Range:\n",
            " [0 1 2 ... 4 5 6] \n",
            "\n",
            "Random normal:\n",
            " [1.68483782 5.16627741 1.39201951 4.42445946 3.09257364] \n",
            "\n"
          ]
        }
      ],
      "source": [
        "# In TensorFlow, a tensor is an n-dimensional array.\n",
        "# 0-d tensor is a scalar. 1-d tensor is a vector, and so on.\n",
        "\n",
        "# We can use TF functions to create all-zero and all-one tensors.\n",
        "zero_array = tf.zeros(shape=[2,3], dtype=tf.float32, name='zero_array')\n",
        "one_array = tf.ones(shape=[2,3], dtype=tf.float32, name='one_array')\n",
        "\n",
        "# Or use a template to infer the shape.\n",
        "template = tf.constant([[1,2,3],[4,5,6]], dtype=tf.float32, name='template') # Has [2,3] shape\n",
        "zero_like = tf.zeros_like(template, name='zero_like')\n",
        "one_like = tf.ones_like(template, name='one_like')\n",
        "\n",
        "# Some sequence generating functions\n",
        "lin_seq = tf.linspace(start=0.0, stop=5.0, num=5, name='lin_seq')\n",
        "lin_range = tf.range(start=0, limit=7, delta=1, name='lin_range')\n",
        "\n",
        "# A random number function\n",
        "norm = tf.random.normal(shape=[5], mean=3, stddev=2.0)\n",
        "\n",
        "# Printing out\n",
        "tf.print('Zero array:\\n', zero_array, '\\n')\n",
        "tf.print('One array:\\n', one_array, '\\n')\n",
        "tf.print('Zero-like:\\n', zero_like, '\\n')\n",
        "tf.print('One-like:\\n', one_like, '\\n')\n",
        "tf.print('Linear sequence:\\n', lin_seq, '\\n')\n",
        "tf.print('Range:\\n', lin_range, '\\n')\n",
        "tf.print('Random normal:\\n', norm, '\\n')"
      ]
    },
    {
      "cell_type": "code",
      "execution_count": null,
      "metadata": {
        "colab": {
          "base_uri": "https://localhost:8080/"
        },
        "id": "K_mABGHTsO3d",
        "outputId": "88fca474-8a25-4535-bbc8-df3851946bff"
      },
      "outputs": [
        {
          "output_type": "stream",
          "name": "stdout",
          "text": [
            "eight_matrix= [[8 8 8]\n",
            " [8 8 8]\n",
            " [8 8 8]] \n",
            "\n",
            "sequence1= [7 6 5 ... -4 -5 -6] \n",
            "\n",
            "sequence2= [7 6 5 ... -4 -5 -6] \n",
            "\n",
            "rand_matrix= [[1.60725272 -0.283700168 -1.28818405]\n",
            " [0.824506819 -0.0872659609 -0.811056495]\n",
            " [1.14162898 -0.155773789 -0.666022778]] \n",
            "\n"
          ]
        }
      ],
      "source": [
        "eight_matrix = tf.constant([[8,8,8],[8,8,8],[8,8,8]],dtype = tf.float32)\n",
        "sequence1 = tf.linspace(start = 7.0, stop = -6.0, num = 14,name = None)\n",
        "sequence2 = tf.range(start = 7.0, limit = -7.0, delta = -1.0, name = None)\n",
        "rand_matrix = tf.random.normal(shape = [3,3], mean = 0, stddev = 1.0, dtype = tf.float32)\n",
        "\n",
        "tf.print('eight_matrix=',eight_matrix,'\\n')\n",
        "tf.print('sequence1=',sequence1,'\\n')\n",
        "tf.print('sequence2=',sequence2,'\\n')\n",
        "tf.print('rand_matrix=',rand_matrix,'\\n')"
      ]
    },
    {
      "cell_type": "markdown",
      "metadata": {
        "id": "kzQd8aDBptyJ"
      },
      "source": [
        "<p style='color:red'><strong>TODO:</strong></p>\n",
        "\n",
        "1. Generate a $3\\times 3$ matrix filled with number `8`.\n",
        "2. Generate a sequence starting from `7.0` to `-6.0` (left inclusive), with step size of `-1.0`.\n",
        "3. Generate another $3\\times 3$ matrix with normal distribution, choose any mean and stddev you like."
      ]
    },
    {
      "cell_type": "markdown",
      "metadata": {
        "id": "drGeb7roSw0u"
      },
      "source": [
        "<p style='color:red'><strong>SOLUTION (enter a new cell below):</strong></p>"
      ]
    },
    {
      "cell_type": "markdown",
      "metadata": {
        "id": "ap_VdFtBptyM"
      },
      "source": [
        "#### 4. Variables in TensorFlow"
      ]
    },
    {
      "cell_type": "code",
      "execution_count": null,
      "metadata": {
        "id": "1tCS_YQIptyN",
        "colab": {
          "base_uri": "https://localhost:8080/"
        },
        "outputId": "ce65589e-080f-46e8-c313-d1f48f44d25f"
      },
      "outputs": [
        {
          "output_type": "stream",
          "name": "stdout",
          "text": [
            "Initial value: [2 3]\n",
            "Assigned value: [4 5]\n",
            "Add: [5 6]\n"
          ]
        }
      ],
      "source": [
        "# The values of constants (previously described) can not be changed.\n",
        "# For TensorFlow variables, their values can be updated during the training of a network.\n",
        "\n",
        "initial_value = tf.Variable([2,3], dtype=tf.float32) # You need to give an initial value to the variable.\n",
        "tf.print(\"Initial value:\", initial_value)\n",
        "\n",
        "# Several ops that can be used to change the value of a variable.\n",
        "# Note that they all become \"nodes\" in the computational graph.\n",
        "new_value = initial_value.assign([4,5])\n",
        "tf.print(\"Assigned value:\", new_value)\n",
        "add = initial_value.assign_add([1,1])\n",
        "tf.print(\"Add:\", add)"
      ]
    },
    {
      "cell_type": "code",
      "execution_count": null,
      "metadata": {
        "colab": {
          "base_uri": "https://localhost:8080/"
        },
        "id": "fOwDnOBdsO3d",
        "outputId": "62872a58-6b4b-43c7-d2fc-fff36a6f04f4"
      },
      "outputs": [
        {
          "output_type": "stream",
          "name": "stdout",
          "text": [
            "Initial value: [[1 2 3]\n",
            " [1 2 3]\n",
            " [1 2 3]]\n",
            "Assigned value: [[1 2 3]\n",
            " [4 5 6]\n",
            " [7 8 9]]\n",
            "Add: [[2 3 4]\n",
            " [5 6 7]\n",
            " [8 9 10]]\n"
          ]
        }
      ],
      "source": [
        "initial_value1 = tf.Variable([[1,2,3],[1,2,3],[1,2,3]], dtype=tf.float32)\n",
        "tf.print(\"Initial value:\", initial_value1)\n",
        "\n",
        "new_value1 = initial_value1.assign([[1,2,3],[4,5,6],[7,8,9]])\n",
        "tf.print(\"Assigned value:\", new_value1)\n",
        "add1 = initial_value1.assign_add([[1,1,1],[1,1,1],[1,1,1]])\n",
        "tf.print(\"Add:\", add1)"
      ]
    },
    {
      "cell_type": "markdown",
      "metadata": {
        "id": "DWZqSEN8ptyP"
      },
      "source": [
        "<p style='color:red'><strong>TODO:</strong></p>\n",
        "\n",
        "1. Create a $3\\times 3$ tensor variable (the initial values don't matter).\n",
        "2. Assign values from 1 to 9 to it and then add 1 to each assigned value in the $3\\times 3$ tensor.\n",
        "3. Print out (i) the initial values (ii) the new values after the assign operation."
      ]
    },
    {
      "cell_type": "markdown",
      "metadata": {
        "id": "EWF-hV1wSw02"
      },
      "source": [
        "<p style='color:red'><strong>SOLUTION (enter a new cell below):</strong></p>"
      ]
    },
    {
      "cell_type": "markdown",
      "metadata": {
        "id": "qrPrL1vuptyX"
      },
      "source": [
        "#### 5. Impact of Data Types"
      ]
    },
    {
      "cell_type": "code",
      "execution_count": 4,
      "metadata": {
        "id": "i0Hi6z_PptyX",
        "colab": {
          "base_uri": "https://localhost:8080/"
        },
        "outputId": "5f50a8b6-ea3b-46b8-e4ae-164687dc6c24"
      },
      "outputs": [
        {
          "output_type": "stream",
          "name": "stdout",
          "text": [
            "Results with float32: \n",
            " [[ 1.44      4.84     10.240001]\n",
            " [17.639997 27.039997 38.44    ]] \n",
            "\n",
            "Results with float64: \n",
            " [[ 1.44  4.84 10.24]\n",
            " [17.64 27.04 38.44]] \n",
            "\n"
          ]
        }
      ],
      "source": [
        "# In TensorFlow, the float type of data includes float32 and float64.\n",
        "# In later assignments, you should ALWAYS consider float32 as the first choice for the sake of efficiency,\n",
        "# even though the precision is lower than for float64.\n",
        "\n",
        "# Here we compare the precision difference between these two types.\n",
        "a32 = tf.Variable([[1,2,3],[4,5,6]], dtype=tf.float32)\n",
        "b32 = (a32 + 0.2) ** 2\n",
        "a64 = tf.Variable([[1,2,3],[4,5,6]], dtype=tf.float64)\n",
        "b64 = (a64 + 0.2) ** 2\n",
        "\n",
        "tf.print('Results with float32: \\n {}'.format(b32), '\\n')\n",
        "tf.print('Results with float64: \\n {}'.format(b64), '\\n')"
      ]
    },
    {
      "cell_type": "markdown",
      "metadata": {
        "id": "Uqv2PgZWu_tR"
      },
      "source": [
        "#### 6. Distance Calculation"
      ]
    },
    {
      "cell_type": "markdown",
      "metadata": {
        "id": "690gKbVd5fZT"
      },
      "source": [
        "\n",
        "\n",
        "The most common way to measure the distance between two points in an $n$-dimensional space is the **Euclidean distance**.  \n",
        "Given two vectors $x, y \\in \\mathbb{R}^n$, it is defined as\n",
        "\n",
        "$$\n",
        "d_2(x,y) = \\|x - y\\|_2 = \\sqrt{\\sum_{i=1}^{n} (x_i - y_i)^2 }.\n",
        "$$\n",
        "\n",
        "---\n",
        "\n",
        "**Euclidean norm**\n",
        "\n",
        "In linear algebra, the corresponding norm is the **Euclidean norm** (the $L^2$ norm).  \n",
        "For a vector $x=(x_1,\\dots,x_n)$,\n",
        "\n",
        "$$\n",
        "\\|x\\|_2 = \\sqrt{x_1^2 + \\cdots + x_n^2},\n",
        "$$\n",
        "\n",
        "and formally the mapping is\n",
        "\n",
        "$$\n",
        "\\|\\cdot\\|_2 : \\mathbb{R}^n \\to [0,\\infty).\n",
        "$$\n",
        "\n",
        "---\n",
        "\n",
        "**General $L^p$ norm**\n",
        "\n",
        "More generally, the Euclidean norm is a special case of the family of **Lebesgue space norms** $L^p$.  \n",
        "For any real $p \\ge 1$, the $L^p$ norm of $x$ is\n",
        "\n",
        "$$\n",
        "\\|x\\|_p = \\left(|x_1|^p + \\cdots + |x_n|^p\\right)^{1/p}.\n",
        "$$\n",
        "\n",
        "- When $p=2$, we recover the Euclidean norm.  \n",
        "- When $p=1$, we obtain the **Manhattan (taxicab) norm**:\n",
        "\n",
        "$$\n",
        "\\|x\\|_1 = |x_1| + \\cdots + |x_n|.\n",
        "$$\n",
        "\n",
        "---\n",
        "\n",
        "**Distances from norms**\n",
        "\n",
        "Using this notation, the $L^p$ distance between two vectors is simply the norm of their difference:\n",
        "\n",
        "$$\n",
        "d_p(x,y) = \\|x - y\\|_p.\n",
        "$$\n",
        "\n",
        "In coordinates, if\n",
        "$$\n",
        "x = (x_1, x_2, \\dots, x_n), \\quad y = (y_1, y_2, \\dots, y_n),\n",
        "$$\n",
        "then\n",
        "\n",
        "$$\n",
        "d_p(x,y)\n",
        "= \\left( \\, |x_1 - y_1|^p + |x_2 - y_2|^p + \\cdots + |x_n - y_n|^p \\, \\right)^{1/p}.\n",
        "$$\n",
        "\n",
        "In particular, the Manhattan ($L^1$) distance is\n",
        "\n",
        "$$\n",
        "d_1(x,y) = \\sum_{i=1}^n |x_i - y_i|.\n",
        "$$\n"
      ]
    },
    {
      "cell_type": "markdown",
      "metadata": {
        "id": "cinES8Ibq8Om"
      },
      "source": [
        "---\n",
        "\n",
        "**NOTE**  \n",
        "> - The $p$-norms we introduced (e.g. Euclidean norm, Manhattan norm) are **vector norms** — they are defined only on vectors.  \n",
        ">\n",
        "> - In **NumPy**, the function [`np.linalg.norm`](https://numpy.org/doc/stable/reference/generated/numpy.linalg.norm.html) applied to a **matrix** will compute a **matrix norm**:  \n",
        ">   - By default (`ord=None`), it gives the **Frobenius norm**:  \n",
        ">     $$\n",
        ">     \\|A\\|_F = \\sqrt{\\sum_{i,j} a_{ij}^2}.\n",
        ">     $$  \n",
        ">   - With `ord=1`, it gives the **induced 1-norm**, i.e. the **maximum column sum**:  \n",
        ">     $$\n",
        ">     \\|A\\|_1 = \\max_j \\sum_i |a_{ij}|.\n",
        ">     $$  \n",
        ">   These are standard definitions for matrices, but note they are **different** from simply flattening the matrix into a vector.  \n",
        ">\n",
        "> - In **TensorFlow**, the function [`tf.norm`](https://www.tensorflow.org/api_docs/python/tf/norm) behaves differently:  \n",
        ">   - If `axis=None`, TensorFlow first **flattens the entire tensor into a 1D vector**, then computes the chosen vector norm.  \n",
        ">   - Example: `tf.norm(A, ord=1, axis=None)` will compute the sum of absolute values of **all entries** in `A`, not the induced matrix norm.  \n",
        ">\n",
        "> For the purposes of this assignment, **always interpret norms as vector norms on flattened tensors**.\n"
      ]
    },
    {
      "cell_type": "code",
      "execution_count": 5,
      "metadata": {
        "id": "3wUaL-C3vC-1",
        "colab": {
          "base_uri": "https://localhost:8080/"
        },
        "outputId": "da81016f-1faf-4076-c232-3cf17381d791"
      },
      "outputs": [
        {
          "output_type": "stream",
          "name": "stdout",
          "text": [
            "Euclidean distance: 3.1622777\n",
            "Manhattan distance: 6\n"
          ]
        }
      ],
      "source": [
        "# Distance Calculation\n",
        "#\n",
        "# Create a tensor among the following types : float32, float64, complex64, complex128\n",
        "# Mentioned link details the meaning of each variable: https://www.tensorflow.org/versions/r2.4/api_docs/python/tf/norm\n",
        "\n",
        "# Create two tensors of shape 2x3.\n",
        "tensor_a = tf.constant([[1,2,3], [3,2,1]], dtype=tf.float32, name='template_a')\n",
        "tensor_b = tf.constant([[1,1,1], [1,1,1]], dtype=tf.float32, name='template_b')\n",
        "\n",
        "# 1. Calculating Euclidean distance or the L2 norm.\n",
        "\n",
        "eucledian_distance = tf.norm(tensor_a - tensor_b, ord='euclidean', axis=None, keepdims=None)\n",
        "tf.print(\"Euclidean distance:\", eucledian_distance)\n",
        "\n",
        "# 2. Calculating the Manhattan distance or the L1 norm\n",
        "manhattan_distance = tf.norm(tensor_a - tensor_b, ord=1, axis=None, keepdims=None)\n",
        "tf.print(\"Manhattan distance:\", manhattan_distance)"
      ]
    },
    {
      "cell_type": "code",
      "source": [
        "eucledian_distance1=np.linalg.norm(tensor_a-tensor_b).astype(np.float32)\n",
        "manhattan_distance1=np.sum(np.abs(tensor_a-tensor_b), dtype=np.float32)\n",
        "tf.print(\"Euclidean distance:\", eucledian_distance1)\n",
        "tf.print(\"Manhattan distance:\", manhattan_distance1)"
      ],
      "metadata": {
        "id": "YjmsLCqBt3EF",
        "colab": {
          "base_uri": "https://localhost:8080/"
        },
        "outputId": "7e1cae10-1387-4fb1-8556-5546de655743"
      },
      "execution_count": 12,
      "outputs": [
        {
          "output_type": "stream",
          "name": "stdout",
          "text": [
            "Euclidean distance: np.float32(3.1622777)\n",
            "Manhattan distance: np.float32(6.0)\n"
          ]
        }
      ]
    },
    {
      "cell_type": "markdown",
      "metadata": {
        "id": "2PQdsHs-vMkO"
      },
      "source": [
        "<p style='color:red'><strong>TODO:</strong></p>\n",
        "\n",
        "Create two functions using `numpy` which will return the Euclidean distance and Manhattan distance between the above tensors. Print their outputs."
      ]
    },
    {
      "cell_type": "markdown",
      "metadata": {
        "id": "eAn055uiSw1A"
      },
      "source": [
        "<p style='color:red'><strong>SOLUTION (enter a new cell below):</strong></p>"
      ]
    },
    {
      "cell_type": "markdown",
      "metadata": {
        "id": "sTiqq8_5wCUh"
      },
      "source": [
        "We have introduced only the basic TensorFlow operations and concepts. We recommend that you visit the TensorFlow tutorial link (https://www.tensorflow.org/tutorials) for many more. You will need them to be able to efficiently build and execute deep learning models."
      ]
    },
    {
      "cell_type": "markdown",
      "metadata": {
        "id": "HC0SVT8owOVP"
      },
      "source": [
        "## Part 4 - TensorFlow Demos\n",
        "Part 4 of this assignment consists of a demo. All you need to do is to run the demos and observe the results. This is meant to give you an idea of how TensorFlow is used.\n",
        "\n",
        "Please run the code and look at the outputs. We do not ask you to fully understand the model at this point. However, it would be a good practice if you searched [www.tensorflow.org](https://www.tensorflow.org) to examine the functions which are used in the code. They will be really helpful when you start programming by yourself."
      ]
    },
    {
      "cell_type": "markdown",
      "metadata": {
        "id": "UtBIkiexwTPz"
      },
      "source": [
        "### Demo 1: Multiclass Logistic Regression\n",
        "#### Loading and preparing the MNIST dataset"
      ]
    },
    {
      "cell_type": "code",
      "execution_count": 13,
      "metadata": {
        "id": "l215pkxyeLJo",
        "colab": {
          "base_uri": "https://localhost:8080/"
        },
        "outputId": "0a808cad-417c-4c12-92c3-c02ead773fce"
      },
      "outputs": [
        {
          "output_type": "stream",
          "name": "stdout",
          "text": [
            "Downloading data from https://storage.googleapis.com/tensorflow/tf-keras-datasets/mnist.npz\n",
            "\u001b[1m11490434/11490434\u001b[0m \u001b[32m━━━━━━━━━━━━━━━━━━━━\u001b[0m\u001b[37m\u001b[0m \u001b[1m0s\u001b[0m 0us/step\n",
            "Cell executed. Move to the next cell.\n"
          ]
        }
      ],
      "source": [
        "# Multi-class Logistic Regression\n",
        "\n",
        "from tensorflow.keras.datasets import mnist\n",
        "\n",
        "# Load dataset\n",
        "(x_train, y_train), (x_test, y_test) = mnist.load_data()\n",
        "\n",
        "# Convert to float32.\n",
        "x_train, x_test = np.array(x_train, np.float32), np.array(x_test, np.float32)\n",
        "\n",
        "# Flatten images to 1-D vector of 784 features (28*28, which is the size of the images in MNIST).\n",
        "num_features = 28 * 28\n",
        "x_train, x_test = x_train.reshape([-1, num_features]), x_test.reshape([-1, num_features])\n",
        "\n",
        "# Normalize values into [0, 1].\n",
        "x_train, x_test = x_train / 255., x_test / 255.\n",
        "\n",
        "print(\"Cell executed. Move to the next cell.\")"
      ]
    },
    {
      "cell_type": "markdown",
      "metadata": {
        "id": "rqE8eRYPSw1D"
      },
      "source": [
        "#### Setting up hyperparameters and dataset parameters"
      ]
    },
    {
      "cell_type": "code",
      "execution_count": null,
      "metadata": {
        "id": "DGiHxRa-Sw1E"
      },
      "outputs": [],
      "source": [
        "# MNIST dataset parameters\n",
        "num_classes = 10 # 0 to 9 digits\n",
        "num_features = 784 # 28*28\n",
        "\n",
        "# Training parameters\n",
        "learning_rate = 0.005\n",
        "training_steps = 500\n",
        "batch_size = 256\n",
        "display_step = 100\n",
        "\n",
        "print(\"Cell executed. Move to the next cell.\")"
      ]
    },
    {
      "cell_type": "markdown",
      "metadata": {
        "id": "TdS7dXufSw1F"
      },
      "source": [
        "#### Shuffling and Batching the data"
      ]
    },
    {
      "cell_type": "code",
      "execution_count": null,
      "metadata": {
        "id": "bFYK4LijSw1G"
      },
      "outputs": [],
      "source": [
        "# Using tf.data API to shuffle and batch data.\n",
        "train_data = tf.data.Dataset.from_tensor_slices((x_train,y_train))\n",
        "\n",
        "train_data = train_data.repeat().shuffle(5000).batch(batch_size).prefetch(1)\n",
        "print(\"Cell executed. Move to the next cell.\")"
      ]
    },
    {
      "cell_type": "markdown",
      "metadata": {
        "id": "nlczIrIGSw1I"
      },
      "source": [
        "#### Initializing weights and biases"
      ]
    },
    {
      "cell_type": "code",
      "execution_count": null,
      "metadata": {
        "id": "CRj1SLvzSw1I",
        "colab": {
          "base_uri": "https://localhost:8080/",
          "height": 221
        },
        "outputId": "d7a18b7f-d117-4244-ae58-6d2e6e7c12ff"
      },
      "outputs": [
        {
          "output_type": "error",
          "ename": "NameError",
          "evalue": "name 'num_features' is not defined",
          "traceback": [
            "\u001b[0;31m---------------------------------------------------------------------------\u001b[0m",
            "\u001b[0;31mNameError\u001b[0m                                 Traceback (most recent call last)",
            "\u001b[0;32m/tmp/ipython-input-3860959256.py\u001b[0m in \u001b[0;36m<cell line: 0>\u001b[0;34m()\u001b[0m\n\u001b[1;32m      1\u001b[0m \u001b[0;31m# Weight of shape [784, 10], the 28*28 image features, and a total number of classes.\u001b[0m\u001b[0;34m\u001b[0m\u001b[0;34m\u001b[0m\u001b[0m\n\u001b[0;32m----> 2\u001b[0;31m \u001b[0mw\u001b[0m \u001b[0;34m=\u001b[0m \u001b[0mtf\u001b[0m\u001b[0;34m.\u001b[0m\u001b[0mVariable\u001b[0m\u001b[0;34m(\u001b[0m\u001b[0mtf\u001b[0m\u001b[0;34m.\u001b[0m\u001b[0mones\u001b[0m\u001b[0;34m(\u001b[0m\u001b[0;34m[\u001b[0m\u001b[0mnum_features\u001b[0m\u001b[0;34m,\u001b[0m \u001b[0mnum_classes\u001b[0m\u001b[0;34m]\u001b[0m\u001b[0;34m)\u001b[0m\u001b[0;34m,\u001b[0m \u001b[0mname\u001b[0m\u001b[0;34m=\u001b[0m\u001b[0;34m\"weight\"\u001b[0m\u001b[0;34m)\u001b[0m\u001b[0;34m\u001b[0m\u001b[0;34m\u001b[0m\u001b[0m\n\u001b[0m\u001b[1;32m      3\u001b[0m \u001b[0;34m\u001b[0m\u001b[0m\n\u001b[1;32m      4\u001b[0m \u001b[0;31m# Bias of shape [10], the total number of classes.\u001b[0m\u001b[0;34m\u001b[0m\u001b[0;34m\u001b[0m\u001b[0m\n\u001b[1;32m      5\u001b[0m \u001b[0mb\u001b[0m \u001b[0;34m=\u001b[0m \u001b[0mtf\u001b[0m\u001b[0;34m.\u001b[0m\u001b[0mVariable\u001b[0m\u001b[0;34m(\u001b[0m\u001b[0mtf\u001b[0m\u001b[0;34m.\u001b[0m\u001b[0mzeros\u001b[0m\u001b[0;34m(\u001b[0m\u001b[0;34m[\u001b[0m\u001b[0mnum_classes\u001b[0m\u001b[0;34m]\u001b[0m\u001b[0;34m)\u001b[0m\u001b[0;34m,\u001b[0m \u001b[0mname\u001b[0m\u001b[0;34m=\u001b[0m\u001b[0;34m\"bias\"\u001b[0m\u001b[0;34m)\u001b[0m\u001b[0;34m\u001b[0m\u001b[0;34m\u001b[0m\u001b[0m\n",
            "\u001b[0;31mNameError\u001b[0m: name 'num_features' is not defined"
          ]
        }
      ],
      "source": [
        "# Weight of shape [784, 10], the 28*28 image features, and a total number of classes.\n",
        "w = tf.Variable(tf.ones([num_features, num_classes]), name=\"weight\")\n",
        "\n",
        "# Bias of shape [10], the total number of classes.\n",
        "b = tf.Variable(tf.zeros([num_classes]), name=\"bias\")\n",
        "\n",
        "print(\"Cell executed. Move to the next cell.\")"
      ]
    },
    {
      "cell_type": "markdown",
      "metadata": {
        "id": "bsi9KCsYSw1K"
      },
      "source": [
        "#### Defining Logistic Regression and Cost function"
      ]
    },
    {
      "cell_type": "code",
      "execution_count": null,
      "metadata": {
        "id": "BaOKjAZoSw1K"
      },
      "outputs": [],
      "source": [
        "# Logistic regression (x@w + b).\n",
        "def logistic_regression(x):\n",
        "    # Apply softmax to normalize the logits to a probability distribution.\n",
        "    return tf.nn.softmax(tf.matmul(x, w) + b)\n",
        "\n",
        "# Cross-Entropy loss function.\n",
        "def cross_entropy(y_pred, y_true):\n",
        "    # Encode label to an one hot vector.\n",
        "    y_true = tf.one_hot(y_true, depth=num_classes)\n",
        "\n",
        "    # Clip prediction values to avoid log(0) error.\n",
        "    y_pred = tf.clip_by_value(y_pred, 1e-9, 1.)\n",
        "\n",
        "    # Compute cross-entropy.\n",
        "    return tf.reduce_mean(-tf.reduce_sum(y_true * tf.math.log(y_pred), axis=1))\n",
        "\n",
        "print(\"Cell executed. Move to the next cell.\")"
      ]
    },
    {
      "cell_type": "markdown",
      "metadata": {
        "id": "Wa53EQ-OSw1L"
      },
      "source": [
        "#### Defining Optimizers and Accuracy Metrics"
      ]
    },
    {
      "cell_type": "code",
      "execution_count": null,
      "metadata": {
        "id": "tcgF_CtpSw1M"
      },
      "outputs": [],
      "source": [
        "# Accuracy metric.\n",
        "def accuracy(y_pred, y_true):\n",
        "    # Predicted class is the index of the highest score in prediction vector (i.e. argmax).\n",
        "    correct_prediction = tf.equal(tf.argmax(y_pred, 1), tf.cast(y_true, tf.int64))\n",
        "\n",
        "    return tf.reduce_mean(tf.cast(correct_prediction, tf.float32))\n",
        "\n",
        "# Stochastic gradient descent optimizer.\n",
        "optimizer = tf.optimizers.SGD(learning_rate)\n",
        "\n",
        "print(\"Cell executed. Move to the next cell.\")"
      ]
    },
    {
      "cell_type": "markdown",
      "metadata": {
        "id": "ph2IWd6YSw1N"
      },
      "source": [
        "#### Optimization process and Updating Weights and Biases"
      ]
    },
    {
      "cell_type": "code",
      "execution_count": null,
      "metadata": {
        "id": "I-Zs0aACSw1O"
      },
      "outputs": [],
      "source": [
        "# Optimization process.\n",
        "\n",
        "def run_optimization(x, y):\n",
        "    # Wrap computation inside a GradientTape for automatic differentiation.\n",
        "    with tf.GradientTape() as g:\n",
        "        pred = logistic_regression(x)\n",
        "        loss = cross_entropy(pred, y)\n",
        "\n",
        "    # Compute gradients.\n",
        "    gradients = g.gradient(loss, [w, b])\n",
        "\n",
        "    # Update W and b following gradients.\n",
        "    optimizer.apply_gradients(zip(gradients, [w, b]))\n",
        "\n",
        "# printf\n",
        "print(\"Cell executed. Move to the next cell.\")"
      ]
    },
    {
      "cell_type": "markdown",
      "metadata": {
        "id": "XAlXhsl0Sw1P"
      },
      "source": [
        "#### Training loop"
      ]
    },
    {
      "cell_type": "code",
      "execution_count": null,
      "metadata": {
        "id": "bPtoLWX4Sw1P"
      },
      "outputs": [],
      "source": [
        "# Run training for the given number of steps.\n",
        "print(\"This cell should run and show output for 500 steps. Running ...\")\n",
        "\n",
        "for step, (batch_x, batch_y) in enumerate(train_data.take(training_steps), 1):\n",
        "    # Run the optimization to update W and b values.\n",
        "    run_optimization(batch_x, batch_y)\n",
        "    if step % display_step == 0:\n",
        "        pred = logistic_regression(batch_x)\n",
        "        loss = cross_entropy(pred, batch_y)\n",
        "        acc = accuracy(pred, batch_y)\n",
        "        print(\"step: %i, loss: %f, accuracy: %f\" % (step, loss, acc))\n",
        "\n",
        "print(\"Cell executed. Move to the next cell.\")"
      ]
    },
    {
      "cell_type": "markdown",
      "metadata": {
        "id": "AJ3nnz3ySw1R"
      },
      "source": [
        "#### Testing model accuracy using the testing data"
      ]
    },
    {
      "cell_type": "code",
      "execution_count": null,
      "metadata": {
        "id": "HfNo8-FaSw1R"
      },
      "outputs": [],
      "source": [
        "# Test model on validation set.\n",
        "pred = logistic_regression(x_test)\n",
        "print(\"Test Accuracy: %f\" % accuracy(pred, y_test))"
      ]
    },
    {
      "cell_type": "markdown",
      "metadata": {
        "id": "yw34fVUVweHt"
      },
      "source": [
        "## Part 5 - Organizing the Code for Development of Deep Learning Models\n",
        "\n",
        "This assignment was distributed as a collection of directories and files (either through the Github or a collection of files in a `*.zip` package).\n",
        "\n",
        "The organization of directories and files is described in the corresponding README.md file, and illustrated below as well:\n",
        "\n",
        "<p style='color:red'><strong>TODO:</strong></p> Study the organization of directories and files for this assignment\n",
        "\n",
        "In particular examine the way in which Jupyter notebook files and utility Python files are distributed across directories. Students will be required to follow this (or very similar) directory structure for their assignments and projects. For every project/assignment, a similar tree structure needs to be generated and appended to the README.md file.\n",
        "\n",
        "A typical organization of the top directory can be seen at the end of the `README.md` file."
      ]
    },
    {
      "cell_type": "markdown",
      "metadata": {
        "id": "ZHZ-42frSw1T"
      },
      "source": [
        "### Steps to create and visualize the tree-like directory structure:\n",
        "\n",
        "<p style='color:red'><strong>For Linux:</strong></p>\n",
        "\n",
        "1. Go to the directory for which you want to create and visualize the tree structure for.\n",
        "2. Type `tree ./ >> README.md` in the terminal (or `!tree ./ >> README.md` a Jupyter Notebook cell) - this will append the tree to the `README.md` file in the same directory.\n",
        "3. After running the above command, go to the `README.md` file and **manually** enclose the appended directory structure text in 3 inverted quote \"```\" (you may refer to the provided example in `README.md`).\n",
        "\n",
        "<p style='color:red'><strong>For Windows:</strong></p>\n",
        "\n",
        "1. Replace the above command with `tree ./ /f /a >> README.md`.\n",
        "2. After running the above command, go to the `README.md` and remove the lines that look like: `Folder PATH listing for volume DATA Volume serial number is 0A8A-1CBE D:\\CA_4040\\MASTER_BRANCH\\e4040-2024fall-assign0`.\n",
        "\n",
        "**Note:** The two chevrons `>>` are used to append the output of a command to the bottom of a file (instead of one chevron `>` which overwrites the whole file)."
      ]
    },
    {
      "cell_type": "markdown",
      "metadata": {
        "id": "5Klm1x5fSw1T"
      },
      "source": [
        "## Submission of the Assignment\n",
        "\n",
        "The method of the submission and the naming are described in the `README.md` file, distributed in Github. For formal submission, additional instructions will be provided a few days before the assignment is due."
      ]
    },
    {
      "cell_type": "markdown",
      "metadata": {
        "id": "N6y2_8vww0oN"
      },
      "source": [
        "## End of the assignment"
      ]
    },
    {
      "cell_type": "code",
      "execution_count": null,
      "metadata": {
        "id": "QarFKHsgq8Os"
      },
      "outputs": [],
      "source": [
        "#!sudo apt-get install tree\n",
        "!tree ./ >> README.md"
      ]
    },
    {
      "cell_type": "code",
      "execution_count": null,
      "metadata": {
        "id": "oCEXCOxiq8Os"
      },
      "outputs": [],
      "source": []
    }
  ],
  "metadata": {
    "colab": {
      "provenance": [],
      "toc_visible": true
    },
    "kernelspec": {
      "display_name": "envTF24",
      "language": "python",
      "name": "tf_2.4"
    },
    "language_info": {
      "codemirror_mode": {
        "name": "ipython",
        "version": 3
      },
      "file_extension": ".py",
      "mimetype": "text/x-python",
      "name": "python",
      "nbconvert_exporter": "python",
      "pygments_lexer": "ipython3",
      "version": "3.8.20"
    },
    "vscode": {
      "interpreter": {
        "hash": "b0fa6594d8f4cbf19f97940f81e996739fb7646882a419484c72d19e05852a7e"
      }
    }
  },
  "nbformat": 4,
  "nbformat_minor": 0
}